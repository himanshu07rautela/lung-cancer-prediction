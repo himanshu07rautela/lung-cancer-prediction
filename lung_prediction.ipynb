{
 "cells": [
  {
   "cell_type": "code",
   "execution_count": 7,
   "id": "7494886f-0c06-46b0-99c7-de463e304385",
   "metadata": {},
   "outputs": [],
   "source": [
    "# load and inspect data\n",
    "import pandas as pd\n",
    "data=pd.read_csv('lung data.csv')\n"
   ]
  },
  {
   "cell_type": "code",
   "execution_count": 11,
   "id": "883ed7be-c968-4d7e-ab52-92a921c21efa",
   "metadata": {},
   "outputs": [
    {
     "name": "stdout",
     "output_type": "stream",
     "text": [
      "  GENDER  AGE SMOKING YELLOW_FINGERS ANXIETY PEER_PRESSURE CHRONIC_DISEASE  \\\n",
      "0      M   65     Yes            Yes     Yes            No              No   \n",
      "1      F   55     Yes             No      No           Yes             Yes   \n",
      "2      F   78      No             No     Yes           Yes             Yes   \n",
      "3      M   60      No            Yes     Yes           Yes              No   \n",
      "4      F   80     Yes            Yes      No           Yes             Yes   \n",
      "\n",
      "  FATIGUE ALLERGY WHEEZING ALCOHOL_CONSUMING COUGHING SHORTNESS_OF_BREATH  \\\n",
      "0     Yes      No       No                No       No                  No   \n",
      "1      No      No       No               Yes      Yes                 Yes   \n",
      "2      No     Yes       No               Yes      Yes                  No   \n",
      "3     Yes      No      Yes               Yes       No                 Yes   \n",
      "4      No     Yes       No               Yes      Yes                 Yes   \n",
      "\n",
      "  SWALLOWING_DIFFICULTY CHEST_PAIN LUNG_CANCER  \n",
      "0                    No        Yes          NO  \n",
      "1                    No         No          NO  \n",
      "2                   Yes        Yes         YES  \n",
      "3                    No         No         YES  \n",
      "4                   Yes         No          NO  \n"
     ]
    }
   ],
   "source": [
    "print(data.head())\n",
    "# basic structure of data"
   ]
  },
  {
   "cell_type": "code",
   "execution_count": 13,
   "id": "2a9a6617-c2ab-4465-9373-f4450ee93562",
   "metadata": {},
   "outputs": [
    {
     "name": "stdout",
     "output_type": "stream",
     "text": [
      "<class 'pandas.core.frame.DataFrame'>\n",
      "RangeIndex: 3000 entries, 0 to 2999\n",
      "Data columns (total 16 columns):\n",
      " #   Column                 Non-Null Count  Dtype \n",
      "---  ------                 --------------  ----- \n",
      " 0   GENDER                 3000 non-null   object\n",
      " 1   AGE                    3000 non-null   int64 \n",
      " 2   SMOKING                3000 non-null   object\n",
      " 3   YELLOW_FINGERS         3000 non-null   object\n",
      " 4   ANXIETY                3000 non-null   object\n",
      " 5   PEER_PRESSURE          3000 non-null   object\n",
      " 6   CHRONIC_DISEASE        3000 non-null   object\n",
      " 7   FATIGUE                3000 non-null   object\n",
      " 8   ALLERGY                3000 non-null   object\n",
      " 9   WHEEZING               3000 non-null   object\n",
      " 10  ALCOHOL_CONSUMING      3000 non-null   object\n",
      " 11  COUGHING               3000 non-null   object\n",
      " 12  SHORTNESS_OF_BREATH    3000 non-null   object\n",
      " 13  SWALLOWING_DIFFICULTY  3000 non-null   object\n",
      " 14  CHEST_PAIN             3000 non-null   object\n",
      " 15  LUNG_CANCER            3000 non-null   object\n",
      "dtypes: int64(1), object(15)\n",
      "memory usage: 375.1+ KB\n",
      "None\n"
     ]
    }
   ],
   "source": [
    "# checking other features\n",
    "print(data.info())"
   ]
  },
  {
   "cell_type": "code",
   "execution_count": 15,
   "id": "f46ce2d0-4503-4c5d-9d25-9270de05b3ff",
   "metadata": {},
   "outputs": [
    {
     "name": "stdout",
     "output_type": "stream",
     "text": [
      "               AGE\n",
      "count  3000.000000\n",
      "mean     55.169000\n",
      "std      14.723746\n",
      "min      30.000000\n",
      "25%      42.000000\n",
      "50%      55.000000\n",
      "75%      68.000000\n",
      "max      80.000000\n"
     ]
    }
   ],
   "source": [
    "# very nice data set :)))\n",
    "print(data.describe())"
   ]
  },
  {
   "cell_type": "code",
   "execution_count": 17,
   "id": "d85ae9a2-c394-41ad-adac-242bb7d840a5",
   "metadata": {},
   "outputs": [],
   "source": [
    "# so we can see that there is one feature age . which is numerical and \n",
    "# others are categorical so we can do\"\"\"\"label encoding\"\"\"\"\"\n",
    "# we do it in case of simple or ordinary data\n",
    "# Purpose: Convert categorical values to numerical values.\n",
    "# It assigns a unique integer to each category.\n",
    "# Usage: Suitable for binary or ordinal categorical data where the order or\n",
    "# magnitude matters.\n",
    "# Example: For columns like SMOKING (Yes/No),\n",
    "# label encoding might convert Yes to 1 and No to 0.\n",
    "\n",
    "# ___________________________________________________________________\n",
    "# w2e also have one hot encoding in this \n",
    "# Purpose: Convert categorical values into a binary matrix\n",
    "# (one column per category).\n",
    "# Usage: Ideal for nominal categorical data where no ordinal relationship\n",
    "# exists and for multi-class categorical features.\n",
    "# Example: For a column with values A, B, and C, one-hot encoding would create\n",
    "# three binary columns, each representing the presence of one category.\n",
    "# ___________________________________________________________________\n",
    "# lets load scikit-learn for performing label encoding\n",
    "# now we use scikit learn for perfoming traditional ml algos\n",
    "# but for advance deep learning we use tensorflow and pytorch\n",
    "\n",
    "from sklearn.preprocessing import LabelEncoder\n",
    "\n",
    "\n",
    "label_encoder = LabelEncoder()\n",
    "\n",
    "\n",
    "binary_columns = ['GENDER', 'SMOKING', 'YELLOW_FINGERS', 'ANXIETY', \n",
    "                   'PEER_PRESSURE', 'CHRONIC_DISEASE', 'FATIGUE', \n",
    "                   'ALLERGY', 'WHEEZING', 'ALCOHOL_CONSUMING', \n",
    "                   'COUGHING', 'SHORTNESS_OF_BREATH', 'SWALLOWING_DIFFICULTY', \n",
    "                   'CHEST_PAIN', 'LUNG_CANCER']\n",
    "\n",
    "for column in binary_columns:\n",
    "    data[column] = label_encoder.fit_transform(data[column])\n",
    "\n"
   ]
  },
  {
   "cell_type": "code",
   "execution_count": 19,
   "id": "c5adccf1-4d92-4e40-9fb9-e1bc4971a330",
   "metadata": {},
   "outputs": [
    {
     "name": "stdout",
     "output_type": "stream",
     "text": [
      "   GENDER  AGE  SMOKING  YELLOW_FINGERS  ANXIETY  PEER_PRESSURE  \\\n",
      "0       1   65        1               1        1              0   \n",
      "1       0   55        1               0        0              1   \n",
      "2       0   78        0               0        1              1   \n",
      "3       1   60        0               1        1              1   \n",
      "4       0   80        1               1        0              1   \n",
      "\n",
      "   CHRONIC_DISEASE  FATIGUE  ALLERGY  WHEEZING  ALCOHOL_CONSUMING  COUGHING  \\\n",
      "0                0        1        0         0                  0         0   \n",
      "1                1        0        0         0                  1         1   \n",
      "2                1        0        1         0                  1         1   \n",
      "3                0        1        0         1                  1         0   \n",
      "4                1        0        1         0                  1         1   \n",
      "\n",
      "   SHORTNESS_OF_BREATH  SWALLOWING_DIFFICULTY  CHEST_PAIN  LUNG_CANCER  \n",
      "0                    0                      0           1            0  \n",
      "1                    1                      0           0            0  \n",
      "2                    0                      1           1            1  \n",
      "3                    1                      0           0            1  \n",
      "4                    1                      1           0            0  \n"
     ]
    }
   ],
   "source": [
    "print(data.head())"
   ]
  },
  {
   "cell_type": "code",
   "execution_count": 25,
   "id": "4bbcac39-cdae-4e3b-a5de-7b6b57fd0e16",
   "metadata": {},
   "outputs": [
    {
     "name": "stdout",
     "output_type": "stream",
     "text": [
      "GENDER                   int32\n",
      "AGE                      int64\n",
      "SMOKING                  int32\n",
      "YELLOW_FINGERS           int32\n",
      "ANXIETY                  int32\n",
      "PEER_PRESSURE            int32\n",
      "CHRONIC_DISEASE          int32\n",
      "FATIGUE                  int32\n",
      "ALLERGY                  int32\n",
      "WHEEZING                 int32\n",
      "ALCOHOL_CONSUMING        int32\n",
      "COUGHING                 int32\n",
      "SHORTNESS_OF_BREATH      int32\n",
      "SWALLOWING_DIFFICULTY    int32\n",
      "CHEST_PAIN               int32\n",
      "LUNG_CANCER              int32\n",
      "dtype: object\n"
     ]
    }
   ],
   "source": [
    "# now why we did it , we do it beacause we can't make prediction of char\n",
    "# or string data , we need only int or float data\n",
    "# Check data types\n",
    "print(data.dtypes)\n"
   ]
  },
  {
   "cell_type": "code",
   "execution_count": 27,
   "id": "b65b19ad-3f12-4628-848b-e3e5bcbd6bad",
   "metadata": {},
   "outputs": [
    {
     "name": "stdout",
     "output_type": "stream",
     "text": [
      "GENDER                   0\n",
      "AGE                      0\n",
      "SMOKING                  0\n",
      "YELLOW_FINGERS           0\n",
      "ANXIETY                  0\n",
      "PEER_PRESSURE            0\n",
      "CHRONIC_DISEASE          0\n",
      "FATIGUE                  0\n",
      "ALLERGY                  0\n",
      "WHEEZING                 0\n",
      "ALCOHOL_CONSUMING        0\n",
      "COUGHING                 0\n",
      "SHORTNESS_OF_BREATH      0\n",
      "SWALLOWING_DIFFICULTY    0\n",
      "CHEST_PAIN               0\n",
      "LUNG_CANCER              0\n",
      "dtype: int64\n"
     ]
    }
   ],
   "source": [
    "# Check for missing values\n",
    "print(data.isnull().sum())\n"
   ]
  },
  {
   "cell_type": "code",
   "execution_count": 29,
   "id": "6b77f8b3-7993-4a3a-895a-c5987c712009",
   "metadata": {},
   "outputs": [
    {
     "name": "stdout",
     "output_type": "stream",
     "text": [
      "   GENDER  AGE  SMOKING  YELLOW_FINGERS  ANXIETY  PEER_PRESSURE  \\\n",
      "0       1   65        1               1        1              0   \n",
      "1       0   55        1               0        0              1   \n",
      "2       0   78        0               0        1              1   \n",
      "3       1   60        0               1        1              1   \n",
      "4       0   80        1               1        0              1   \n",
      "\n",
      "   CHRONIC_DISEASE  FATIGUE  ALLERGY  WHEEZING  ALCOHOL_CONSUMING  COUGHING  \\\n",
      "0                0        1        0         0                  0         0   \n",
      "1                1        0        0         0                  1         1   \n",
      "2                1        0        1         0                  1         1   \n",
      "3                0        1        0         1                  1         0   \n",
      "4                1        0        1         0                  1         1   \n",
      "\n",
      "   SHORTNESS_OF_BREATH  SWALLOWING_DIFFICULTY  CHEST_PAIN  LUNG_CANCER  \n",
      "0                    0                      0           1            0  \n",
      "1                    1                      0           0            0  \n",
      "2                    0                      1           1            1  \n",
      "3                    1                      0           0            1  \n",
      "4                    1                      1           0            0  \n"
     ]
    }
   ],
   "source": [
    "# Inspect the first few rows of the dataset\n",
    "print(data.head())\n"
   ]
  },
  {
   "cell_type": "code",
   "execution_count": 31,
   "id": "64cceb9b-a559-4b37-ada3-f462cda6404b",
   "metadata": {},
   "outputs": [
    {
     "name": "stdout",
     "output_type": "stream",
     "text": [
      "            GENDER          AGE      SMOKING  YELLOW_FINGERS      ANXIETY  \\\n",
      "count  3000.000000  3000.000000  3000.000000     3000.000000  3000.000000   \n",
      "mean      0.504667    55.169000     0.509000        0.486000     0.506000   \n",
      "std       0.500062    14.723746     0.500002        0.499887     0.500047   \n",
      "min       0.000000    30.000000     0.000000        0.000000     0.000000   \n",
      "25%       0.000000    42.000000     0.000000        0.000000     0.000000   \n",
      "50%       1.000000    55.000000     1.000000        0.000000     1.000000   \n",
      "75%       1.000000    68.000000     1.000000        1.000000     1.000000   \n",
      "max       1.000000    80.000000     1.000000        1.000000     1.000000   \n",
      "\n",
      "       PEER_PRESSURE  CHRONIC_DISEASE      FATIGUE      ALLERGY     WHEEZING  \\\n",
      "count    3000.000000      3000.000000  3000.000000  3000.000000  3000.000000   \n",
      "mean        0.501000         0.490333     0.510333     0.493333     0.502667   \n",
      "std         0.500082         0.499990     0.499977     0.500039     0.500076   \n",
      "min         0.000000         0.000000     0.000000     0.000000     0.000000   \n",
      "25%         0.000000         0.000000     0.000000     0.000000     0.000000   \n",
      "50%         1.000000         0.000000     1.000000     0.000000     1.000000   \n",
      "75%         1.000000         1.000000     1.000000     1.000000     1.000000   \n",
      "max         1.000000         1.000000     1.000000     1.000000     1.000000   \n",
      "\n",
      "       ALCOHOL_CONSUMING     COUGHING  SHORTNESS_OF_BREATH  \\\n",
      "count        3000.000000  3000.000000          3000.000000   \n",
      "mean            0.508667     0.489333             0.512000   \n",
      "std             0.500008     0.499970             0.499939   \n",
      "min             0.000000     0.000000             0.000000   \n",
      "25%             0.000000     0.000000             0.000000   \n",
      "50%             1.000000     0.000000             1.000000   \n",
      "75%             1.000000     1.000000             1.000000   \n",
      "max             1.000000     1.000000             1.000000   \n",
      "\n",
      "       SWALLOWING_DIFFICULTY   CHEST_PAIN  LUNG_CANCER  \n",
      "count            3000.000000  3000.000000  3000.000000  \n",
      "mean                0.510333     0.501333     0.506000  \n",
      "std                 0.499977     0.500082     0.500047  \n",
      "min                 0.000000     0.000000     0.000000  \n",
      "25%                 0.000000     0.000000     0.000000  \n",
      "50%                 1.000000     1.000000     1.000000  \n",
      "75%                 1.000000     1.000000     1.000000  \n",
      "max                 1.000000     1.000000     1.000000  \n"
     ]
    }
   ],
   "source": [
    "print(data.describe())"
   ]
  },
  {
   "cell_type": "code",
   "execution_count": 33,
   "id": "08a392ac-ee8c-4608-9d77-75d96a5d3c8e",
   "metadata": {},
   "outputs": [
    {
     "name": "stdout",
     "output_type": "stream",
     "text": [
      "<class 'pandas.core.frame.DataFrame'>\n",
      "RangeIndex: 3000 entries, 0 to 2999\n",
      "Data columns (total 16 columns):\n",
      " #   Column                 Non-Null Count  Dtype\n",
      "---  ------                 --------------  -----\n",
      " 0   GENDER                 3000 non-null   int32\n",
      " 1   AGE                    3000 non-null   int64\n",
      " 2   SMOKING                3000 non-null   int32\n",
      " 3   YELLOW_FINGERS         3000 non-null   int32\n",
      " 4   ANXIETY                3000 non-null   int32\n",
      " 5   PEER_PRESSURE          3000 non-null   int32\n",
      " 6   CHRONIC_DISEASE        3000 non-null   int32\n",
      " 7   FATIGUE                3000 non-null   int32\n",
      " 8   ALLERGY                3000 non-null   int32\n",
      " 9   WHEEZING               3000 non-null   int32\n",
      " 10  ALCOHOL_CONSUMING      3000 non-null   int32\n",
      " 11  COUGHING               3000 non-null   int32\n",
      " 12  SHORTNESS_OF_BREATH    3000 non-null   int32\n",
      " 13  SWALLOWING_DIFFICULTY  3000 non-null   int32\n",
      " 14  CHEST_PAIN             3000 non-null   int32\n",
      " 15  LUNG_CANCER            3000 non-null   int32\n",
      "dtypes: int32(15), int64(1)\n",
      "memory usage: 199.3 KB\n",
      "None\n"
     ]
    }
   ],
   "source": [
    "print(data.info())"
   ]
  },
  {
   "cell_type": "code",
   "execution_count": 39,
   "id": "e9f4aaf5-bde1-4e59-bd19-9ba3e1a381b9",
   "metadata": {},
   "outputs": [],
   "source": [
    "# data is cleaned now we will think about the model\n",
    "# time for data slpitting \n",
    "# used to test data by splittingg it in 80-20 so that we can train on 80% data\n",
    "# test for 20% data , to see how good of a model it is in general\n",
    "from sklearn.model_selection import train_test_split\n",
    "\n",
    "\n",
    "X = data.drop('LUNG_CANCER', axis=1)  # Features\n",
    "y = data['LUNG_CANCER']  # Target variable\n",
    "\n",
    "\n",
    "X_train, X_test, y_train, y_test = train_test_split(\n",
    "    X,                     # Features\n",
    "    y,                     # Target variable\n",
    "    test_size=0.2,         # 20% of data for testing\n",
    "    random_state=42        # Ensures the split is reproducible\n",
    ")\n"
   ]
  },
  {
   "cell_type": "code",
   "execution_count": 132,
   "id": "70c0b9b3-5778-442a-aaf7-f95c1b6390ee",
   "metadata": {},
   "outputs": [
    {
     "name": "stdout",
     "output_type": "stream",
     "text": [
      "Epoch 1/90\n"
     ]
    },
    {
     "name": "stderr",
     "output_type": "stream",
     "text": [
      "C:\\Users\\pc\\anaconda3\\Lib\\site-packages\\keras\\src\\layers\\core\\dense.py:87: UserWarning: Do not pass an `input_shape`/`input_dim` argument to a layer. When using Sequential models, prefer using an `Input(shape)` object as the first layer in the model instead.\n",
      "  super().__init__(activity_regularizer=activity_regularizer, **kwargs)\n"
     ]
    },
    {
     "name": "stdout",
     "output_type": "stream",
     "text": [
      "\u001b[1m60/60\u001b[0m \u001b[32m━━━━━━━━━━━━━━━━━━━━\u001b[0m\u001b[37m\u001b[0m \u001b[1m3s\u001b[0m 16ms/step - accuracy: 0.5191 - loss: 1.3552 - val_accuracy: 0.5042 - val_loss: 1.2052 - learning_rate: 0.0010\n",
      "Epoch 2/90\n",
      "\u001b[1m60/60\u001b[0m \u001b[32m━━━━━━━━━━━━━━━━━━━━\u001b[0m\u001b[37m\u001b[0m \u001b[1m0s\u001b[0m 3ms/step - accuracy: 0.5239 - loss: 1.1802 - val_accuracy: 0.4792 - val_loss: 1.0866 - learning_rate: 0.0010\n",
      "Epoch 3/90\n",
      "\u001b[1m60/60\u001b[0m \u001b[32m━━━━━━━━━━━━━━━━━━━━\u001b[0m\u001b[37m\u001b[0m \u001b[1m0s\u001b[0m 3ms/step - accuracy: 0.5018 - loss: 1.0724 - val_accuracy: 0.5125 - val_loss: 0.9924 - learning_rate: 0.0010\n",
      "Epoch 4/90\n",
      "\u001b[1m60/60\u001b[0m \u001b[32m━━━━━━━━━━━━━━━━━━━━\u001b[0m\u001b[37m\u001b[0m \u001b[1m0s\u001b[0m 2ms/step - accuracy: 0.4947 - loss: 0.9767 - val_accuracy: 0.4979 - val_loss: 0.9225 - learning_rate: 0.0010\n",
      "Epoch 5/90\n",
      "\u001b[1m60/60\u001b[0m \u001b[32m━━━━━━━━━━━━━━━━━━━━\u001b[0m\u001b[37m\u001b[0m \u001b[1m0s\u001b[0m 3ms/step - accuracy: 0.5447 - loss: 0.9029 - val_accuracy: 0.5104 - val_loss: 0.8686 - learning_rate: 0.0010\n",
      "Epoch 6/90\n",
      "\u001b[1m60/60\u001b[0m \u001b[32m━━━━━━━━━━━━━━━━━━━━\u001b[0m\u001b[37m\u001b[0m \u001b[1m0s\u001b[0m 3ms/step - accuracy: 0.5473 - loss: 0.8526 - val_accuracy: 0.5188 - val_loss: 0.8281 - learning_rate: 0.0010\n",
      "Epoch 7/90\n",
      "\u001b[1m60/60\u001b[0m \u001b[32m━━━━━━━━━━━━━━━━━━━━\u001b[0m\u001b[37m\u001b[0m \u001b[1m0s\u001b[0m 3ms/step - accuracy: 0.5315 - loss: 0.8177 - val_accuracy: 0.5229 - val_loss: 0.7970 - learning_rate: 0.0010\n",
      "Epoch 8/90\n",
      "\u001b[1m60/60\u001b[0m \u001b[32m━━━━━━━━━━━━━━━━━━━━\u001b[0m\u001b[37m\u001b[0m \u001b[1m0s\u001b[0m 2ms/step - accuracy: 0.5426 - loss: 0.7867 - val_accuracy: 0.5292 - val_loss: 0.7721 - learning_rate: 0.0010\n",
      "Epoch 9/90\n",
      "\u001b[1m60/60\u001b[0m \u001b[32m━━━━━━━━━━━━━━━━━━━━\u001b[0m\u001b[37m\u001b[0m \u001b[1m0s\u001b[0m 3ms/step - accuracy: 0.5368 - loss: 0.7646 - val_accuracy: 0.5354 - val_loss: 0.7527 - learning_rate: 0.0010\n",
      "Epoch 10/90\n",
      "\u001b[1m60/60\u001b[0m \u001b[32m━━━━━━━━━━━━━━━━━━━━\u001b[0m\u001b[37m\u001b[0m \u001b[1m0s\u001b[0m 3ms/step - accuracy: 0.5596 - loss: 0.7458 - val_accuracy: 0.5375 - val_loss: 0.7381 - learning_rate: 0.0010\n",
      "Epoch 11/90\n",
      "\u001b[1m60/60\u001b[0m \u001b[32m━━━━━━━━━━━━━━━━━━━━\u001b[0m\u001b[37m\u001b[0m \u001b[1m0s\u001b[0m 2ms/step - accuracy: 0.5331 - loss: 0.7339 - val_accuracy: 0.5188 - val_loss: 0.7273 - learning_rate: 0.0010\n",
      "Epoch 12/90\n",
      "\u001b[1m60/60\u001b[0m \u001b[32m━━━━━━━━━━━━━━━━━━━━\u001b[0m\u001b[37m\u001b[0m \u001b[1m0s\u001b[0m 3ms/step - accuracy: 0.5560 - loss: 0.7214 - val_accuracy: 0.5250 - val_loss: 0.7189 - learning_rate: 0.0010\n",
      "Epoch 13/90\n",
      "\u001b[1m60/60\u001b[0m \u001b[32m━━━━━━━━━━━━━━━━━━━━\u001b[0m\u001b[37m\u001b[0m \u001b[1m0s\u001b[0m 3ms/step - accuracy: 0.5494 - loss: 0.7146 - val_accuracy: 0.5312 - val_loss: 0.7124 - learning_rate: 0.0010\n",
      "Epoch 14/90\n",
      "\u001b[1m60/60\u001b[0m \u001b[32m━━━━━━━━━━━━━━━━━━━━\u001b[0m\u001b[37m\u001b[0m \u001b[1m0s\u001b[0m 2ms/step - accuracy: 0.5668 - loss: 0.7089 - val_accuracy: 0.5375 - val_loss: 0.7080 - learning_rate: 0.0010\n",
      "Epoch 15/90\n",
      "\u001b[1m60/60\u001b[0m \u001b[32m━━━━━━━━━━━━━━━━━━━━\u001b[0m\u001b[37m\u001b[0m \u001b[1m0s\u001b[0m 3ms/step - accuracy: 0.5439 - loss: 0.7043 - val_accuracy: 0.5312 - val_loss: 0.7046 - learning_rate: 0.0010\n",
      "Epoch 16/90\n",
      "\u001b[1m60/60\u001b[0m \u001b[32m━━━━━━━━━━━━━━━━━━━━\u001b[0m\u001b[37m\u001b[0m \u001b[1m0s\u001b[0m 3ms/step - accuracy: 0.5475 - loss: 0.7020 - val_accuracy: 0.5375 - val_loss: 0.7016 - learning_rate: 0.0010\n",
      "Epoch 17/90\n",
      "\u001b[1m60/60\u001b[0m \u001b[32m━━━━━━━━━━━━━━━━━━━━\u001b[0m\u001b[37m\u001b[0m \u001b[1m0s\u001b[0m 3ms/step - accuracy: 0.5516 - loss: 0.6997 - val_accuracy: 0.5500 - val_loss: 0.6996 - learning_rate: 0.0010\n",
      "Epoch 18/90\n",
      "\u001b[1m60/60\u001b[0m \u001b[32m━━━━━━━━━━━━━━━━━━━━\u001b[0m\u001b[37m\u001b[0m \u001b[1m0s\u001b[0m 2ms/step - accuracy: 0.5350 - loss: 0.6987 - val_accuracy: 0.5354 - val_loss: 0.6984 - learning_rate: 0.0010\n",
      "Epoch 19/90\n",
      "\u001b[1m60/60\u001b[0m \u001b[32m━━━━━━━━━━━━━━━━━━━━\u001b[0m\u001b[37m\u001b[0m \u001b[1m0s\u001b[0m 2ms/step - accuracy: 0.5499 - loss: 0.6957 - val_accuracy: 0.5167 - val_loss: 0.6973 - learning_rate: 0.0010\n",
      "Epoch 20/90\n",
      "\u001b[1m60/60\u001b[0m \u001b[32m━━━━━━━━━━━━━━━━━━━━\u001b[0m\u001b[37m\u001b[0m \u001b[1m0s\u001b[0m 3ms/step - accuracy: 0.5329 - loss: 0.6947 - val_accuracy: 0.5167 - val_loss: 0.6969 - learning_rate: 0.0010\n",
      "Epoch 21/90\n",
      "\u001b[1m60/60\u001b[0m \u001b[32m━━━━━━━━━━━━━━━━━━━━\u001b[0m\u001b[37m\u001b[0m \u001b[1m0s\u001b[0m 3ms/step - accuracy: 0.5492 - loss: 0.6947 - val_accuracy: 0.5250 - val_loss: 0.6962 - learning_rate: 0.0010\n",
      "Epoch 22/90\n",
      "\u001b[1m60/60\u001b[0m \u001b[32m━━━━━━━━━━━━━━━━━━━━\u001b[0m\u001b[37m\u001b[0m \u001b[1m0s\u001b[0m 2ms/step - accuracy: 0.5451 - loss: 0.6932 - val_accuracy: 0.5292 - val_loss: 0.6965 - learning_rate: 0.0010\n",
      "Epoch 23/90\n",
      "\u001b[1m60/60\u001b[0m \u001b[32m━━━━━━━━━━━━━━━━━━━━\u001b[0m\u001b[37m\u001b[0m \u001b[1m0s\u001b[0m 2ms/step - accuracy: 0.5140 - loss: 0.6962 - val_accuracy: 0.5250 - val_loss: 0.6956 - learning_rate: 0.0010\n",
      "Epoch 24/90\n",
      "\u001b[1m60/60\u001b[0m \u001b[32m━━━━━━━━━━━━━━━━━━━━\u001b[0m\u001b[37m\u001b[0m \u001b[1m0s\u001b[0m 3ms/step - accuracy: 0.5500 - loss: 0.6930 - val_accuracy: 0.5312 - val_loss: 0.6949 - learning_rate: 0.0010\n",
      "Epoch 25/90\n",
      "\u001b[1m60/60\u001b[0m \u001b[32m━━━━━━━━━━━━━━━━━━━━\u001b[0m\u001b[37m\u001b[0m \u001b[1m0s\u001b[0m 3ms/step - accuracy: 0.5534 - loss: 0.6929 - val_accuracy: 0.5250 - val_loss: 0.6951 - learning_rate: 0.0010\n",
      "Epoch 26/90\n",
      "\u001b[1m60/60\u001b[0m \u001b[32m━━━━━━━━━━━━━━━━━━━━\u001b[0m\u001b[37m\u001b[0m \u001b[1m0s\u001b[0m 3ms/step - accuracy: 0.5606 - loss: 0.6913 - val_accuracy: 0.5250 - val_loss: 0.6954 - learning_rate: 0.0010\n",
      "Epoch 27/90\n",
      "\u001b[1m60/60\u001b[0m \u001b[32m━━━━━━━━━━━━━━━━━━━━\u001b[0m\u001b[37m\u001b[0m \u001b[1m0s\u001b[0m 2ms/step - accuracy: 0.5370 - loss: 0.6936 - val_accuracy: 0.5375 - val_loss: 0.6961 - learning_rate: 0.0010\n",
      "Epoch 28/90\n",
      "\u001b[1m60/60\u001b[0m \u001b[32m━━━━━━━━━━━━━━━━━━━━\u001b[0m\u001b[37m\u001b[0m \u001b[1m0s\u001b[0m 3ms/step - accuracy: 0.5078 - loss: 0.6940 - val_accuracy: 0.5333 - val_loss: 0.6957 - learning_rate: 0.0010\n",
      "Epoch 29/90\n",
      "\u001b[1m58/60\u001b[0m \u001b[32m━━━━━━━━━━━━━━━━━━━\u001b[0m\u001b[37m━\u001b[0m \u001b[1m0s\u001b[0m 2ms/step - accuracy: 0.5448 - loss: 0.6922\n",
      "Epoch 29: ReduceLROnPlateau reducing learning rate to 0.0005000000237487257.\n",
      "\u001b[1m60/60\u001b[0m \u001b[32m━━━━━━━━━━━━━━━━━━━━\u001b[0m\u001b[37m\u001b[0m \u001b[1m0s\u001b[0m 3ms/step - accuracy: 0.5447 - loss: 0.6923 - val_accuracy: 0.5375 - val_loss: 0.6954 - learning_rate: 0.0010\n",
      "Epoch 30/90\n",
      "\u001b[1m60/60\u001b[0m \u001b[32m━━━━━━━━━━━━━━━━━━━━\u001b[0m\u001b[37m\u001b[0m \u001b[1m0s\u001b[0m 2ms/step - accuracy: 0.5511 - loss: 0.6926 - val_accuracy: 0.5292 - val_loss: 0.6951 - learning_rate: 5.0000e-04\n",
      "Epoch 31/90\n",
      "\u001b[1m60/60\u001b[0m \u001b[32m━━━━━━━━━━━━━━━━━━━━\u001b[0m\u001b[37m\u001b[0m \u001b[1m0s\u001b[0m 3ms/step - accuracy: 0.5307 - loss: 0.6926 - val_accuracy: 0.5417 - val_loss: 0.6953 - learning_rate: 5.0000e-04\n",
      "Epoch 32/90\n",
      "\u001b[1m60/60\u001b[0m \u001b[32m━━━━━━━━━━━━━━━━━━━━\u001b[0m\u001b[37m\u001b[0m \u001b[1m0s\u001b[0m 3ms/step - accuracy: 0.5592 - loss: 0.6910 - val_accuracy: 0.5375 - val_loss: 0.6956 - learning_rate: 5.0000e-04\n",
      "Epoch 33/90\n",
      "\u001b[1m60/60\u001b[0m \u001b[32m━━━━━━━━━━━━━━━━━━━━\u001b[0m\u001b[37m\u001b[0m \u001b[1m0s\u001b[0m 2ms/step - accuracy: 0.5706 - loss: 0.6902 - val_accuracy: 0.5396 - val_loss: 0.6949 - learning_rate: 5.0000e-04\n",
      "Epoch 34/90\n",
      "\u001b[1m33/60\u001b[0m \u001b[32m━━━━━━━━━━━\u001b[0m\u001b[37m━━━━━━━━━\u001b[0m \u001b[1m0s\u001b[0m 2ms/step - accuracy: 0.5733 - loss: 0.6918 \n",
      "Epoch 34: ReduceLROnPlateau reducing learning rate to 0.0002500000118743628.\n",
      "\u001b[1m60/60\u001b[0m \u001b[32m━━━━━━━━━━━━━━━━━━━━\u001b[0m\u001b[37m\u001b[0m \u001b[1m0s\u001b[0m 3ms/step - accuracy: 0.5600 - loss: 0.6920 - val_accuracy: 0.5375 - val_loss: 0.6952 - learning_rate: 5.0000e-04\n",
      "\u001b[1m19/19\u001b[0m \u001b[32m━━━━━━━━━━━━━━━━━━━━\u001b[0m\u001b[37m\u001b[0m \u001b[1m0s\u001b[0m 1ms/step - accuracy: 0.5158 - loss: 0.6954  \n",
      "Test Accuracy: 0.5333333611488342\n"
     ]
    }
   ],
   "source": [
    "import tensorflow as tf\n",
    "from tensorflow.keras.models import Sequential\n",
    "from tensorflow.keras.layers import Dense, Dropout\n",
    "from tensorflow.keras.regularizers import l2\n",
    "from tensorflow.keras.optimizers import Adam\n",
    "from tensorflow.keras.callbacks import ReduceLROnPlateau, EarlyStopping\n",
    "import matplotlib.pyplot as plt\n",
    "\n",
    "# Build the neural network model\n",
    "model = Sequential([\n",
    "    Dense(64, activation='relu', kernel_regularizer=l2(0.01), input_shape=(X_train.shape[1],)),\n",
    "    Dropout(0.5),\n",
    "    Dense(32, activation='relu', kernel_regularizer=l2(0.01)),\n",
    "    Dropout(0.5),\n",
    "    Dense(1, activation='sigmoid')\n",
    "])\n",
    "\n",
    "# Compile the model with learning rate scheduler\n",
    "optimizer = Adam(learning_rate=0.001)\n",
    "model.compile(optimizer=optimizer, loss='binary_crossentropy', metrics=['accuracy'])\n",
    "\n",
    "# Set up callbacks\n",
    "lr_reduction = ReduceLROnPlateau(monitor='val_loss', patience=5, factor=0.5, verbose=1)\n",
    "early_stopping = EarlyStopping(monitor='val_loss', patience=10, restore_best_weights=True)\n",
    "\n",
    "# Train the model\n",
    "history = model.fit(X_train, y_train, epochs=90, validation_split=0.2, batch_size=32, callbacks=[lr_reduction, early_stopping])\n",
    "\n",
    "# Evaluate the model\n",
    "loss, accuracy = model.evaluate(X_test, y_test)\n",
    "print(f'Test Accuracy: {accuracy}')\n",
    "\n",
    "\n"
   ]
  },
  {
   "cell_type": "code",
   "execution_count": 134,
   "id": "fa68291d-1997-4eb3-84cb-d7f2e66aa7cb",
   "metadata": {},
   "outputs": [
    {
     "data": {
      "image/png": "[encoded data removed]",
      "text/plain": [
       "<Figure size 640x480 with 1 Axes>"
      ]
     },
     "metadata": {},
     "output_type": "display_data"
    },
    {
     "data": {
      "image/png": "[encoded data removed]",
      "text/plain": [
       "<Figure size 640x480 with 1 Axes>"
      ]
     },
     "metadata": {},
     "output_type": "display_data"
    }
   ],
   "source": [
    "import matplotlib.pyplot as plt\n",
    "\n",
    "# Plot training & validation accuracy values\n",
    "plt.plot(history.history['accuracy'])\n",
    "plt.plot(history.history['val_accuracy'])\n",
    "plt.title('Model accuracy')\n",
    "plt.xlabel('Epoch')\n",
    "plt.ylabel('Accuracy')\n",
    "plt.legend(['Train', 'Validation'], loc='upper left')\n",
    "plt.show()\n",
    "\n",
    "# Plot training & validation loss values\n",
    "plt.plot(history.history['loss'])\n",
    "plt.plot(history.history['val_loss'])\n",
    "plt.title('Model loss')\n",
    "plt.xlabel('Epoch')\n",
    "plt.ylabel('Loss')\n",
    "plt.legend(['Train', 'Validation'], loc='upper left')\n",
    "plt.show()\n"
   ]
  },
  {
   "cell_type": "code",
   "execution_count": 136,
   "id": "859658c8-29ed-4cbb-a631-5c004dd6477f",
   "metadata": {},
   "outputs": [],
   "source": [
    "# so accuracy and validation accuracy increases and becomes constant overtime and loss_train and loss_validation\n",
    "# also decreases and becomes constant overtime  together , overfitting is avoided and its the highest we can achieve\n",
    "# using this model"
   ]
  },
  {
   "cell_type": "code",
   "execution_count": null,
   "id": "68e66e50-a1ee-4279-b267-a1f4c1b2f3d0",
   "metadata": {},
   "outputs": [],
   "source": []
  }
 ],
 "metadata": {
  "kernelspec": {
   "display_name": "Python 3 (ipykernel)",
   "language": "python",
   "name": "python3"
  },
  "language_info": {
   "codemirror_mode": {
    "name": "ipython",
    "version": 3
   },
   "file_extension": ".py",
   "mimetype": "text/x-python",
   "name": "python",
   "nbconvert_exporter": "python",
   "pygments_lexer": "ipython3",
   "version": "3.11.7"
  }
 },
 "nbformat": 4,
 "nbformat_minor": 5
}
